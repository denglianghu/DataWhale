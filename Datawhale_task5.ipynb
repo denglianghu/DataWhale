{
 "cells": [
  {
   "cell_type": "markdown",
   "metadata": {},
   "source": [
    "Task5 内容：使用网格搜索法对5个模型进行调优（调参时采用五折交叉验证的方式），并进行模型评估，记得展示代码的运行结果。 \n"
   ]
  },
  {
   "cell_type": "code",
   "execution_count": 1,
   "metadata": {},
   "outputs": [],
   "source": [
    "import numpy as np\n",
    "import pandas as pd\n",
    "import matplotlib.pyplot as plt\n",
    "import seaborn as sns\n",
    "import warnings\n",
    "import matplotlib as mpl\n",
    "from sklearn.model_selection import train_test_split"
   ]
  },
  {
   "cell_type": "code",
   "execution_count": 2,
   "metadata": {},
   "outputs": [],
   "source": [
    "#正常显示中文\n",
    "mpl.rcParams['font.sans-serif']=[u'SimHei']\n",
    "mpl.rcParams['axes.unicode_minus'] = False\n",
    "#用于抑制第三方警告\n",
    "warnings.filterwarnings(\"ignore\")"
   ]
  },
  {
   "cell_type": "code",
   "execution_count": 3,
   "metadata": {},
   "outputs": [
    {
     "data": {
      "text/html": [
       "<div>\n",
       "<style scoped>\n",
       "    .dataframe tbody tr th:only-of-type {\n",
       "        vertical-align: middle;\n",
       "    }\n",
       "\n",
       "    .dataframe tbody tr th {\n",
       "        vertical-align: top;\n",
       "    }\n",
       "\n",
       "    .dataframe thead th {\n",
       "        text-align: right;\n",
       "    }\n",
       "</style>\n",
       "<table border=\"1\" class=\"dataframe\">\n",
       "  <thead>\n",
       "    <tr style=\"text-align: right;\">\n",
       "      <th></th>\n",
       "      <th>Unnamed: 0</th>\n",
       "      <th>custid</th>\n",
       "      <th>low_volume_percent</th>\n",
       "      <th>middle_volume_percent</th>\n",
       "      <th>take_amount_in_later_12_month_highest</th>\n",
       "      <th>trans_amount_increase_rate_lately</th>\n",
       "      <th>trans_activity_month</th>\n",
       "      <th>trans_activity_day</th>\n",
       "      <th>transd_mcc</th>\n",
       "      <th>trans_days_interval_filter</th>\n",
       "      <th>...</th>\n",
       "      <th>loans_max_limit</th>\n",
       "      <th>loans_avg_limit</th>\n",
       "      <th>consfin_credit_limit</th>\n",
       "      <th>consfin_credibility</th>\n",
       "      <th>consfin_org_count_current</th>\n",
       "      <th>consfin_product_count</th>\n",
       "      <th>consfin_max_limit</th>\n",
       "      <th>consfin_avg_limit</th>\n",
       "      <th>latest_query_day</th>\n",
       "      <th>loans_latest_day</th>\n",
       "    </tr>\n",
       "  </thead>\n",
       "  <tbody>\n",
       "    <tr>\n",
       "      <th>count</th>\n",
       "      <td>4754.000000</td>\n",
       "      <td>4.754000e+03</td>\n",
       "      <td>4752.000000</td>\n",
       "      <td>4752.000000</td>\n",
       "      <td>4754.000000</td>\n",
       "      <td>4751.000000</td>\n",
       "      <td>4752.000000</td>\n",
       "      <td>4752.000000</td>\n",
       "      <td>4752.000000</td>\n",
       "      <td>4746.000000</td>\n",
       "      <td>...</td>\n",
       "      <td>4457.000000</td>\n",
       "      <td>4457.000000</td>\n",
       "      <td>4457.000000</td>\n",
       "      <td>4457.000000</td>\n",
       "      <td>4457.000000</td>\n",
       "      <td>4457.000000</td>\n",
       "      <td>4457.000000</td>\n",
       "      <td>4457.000000</td>\n",
       "      <td>4450.000000</td>\n",
       "      <td>4457.000000</td>\n",
       "    </tr>\n",
       "    <tr>\n",
       "      <th>mean</th>\n",
       "      <td>6008.414178</td>\n",
       "      <td>1.690993e+06</td>\n",
       "      <td>0.021806</td>\n",
       "      <td>0.901294</td>\n",
       "      <td>1940.197728</td>\n",
       "      <td>14.160674</td>\n",
       "      <td>0.804411</td>\n",
       "      <td>0.365425</td>\n",
       "      <td>17.502946</td>\n",
       "      <td>29.029920</td>\n",
       "      <td>...</td>\n",
       "      <td>3390.038142</td>\n",
       "      <td>1820.357864</td>\n",
       "      <td>9187.009199</td>\n",
       "      <td>76.042630</td>\n",
       "      <td>4.732331</td>\n",
       "      <td>5.227507</td>\n",
       "      <td>16153.690823</td>\n",
       "      <td>8007.696881</td>\n",
       "      <td>24.112809</td>\n",
       "      <td>55.181512</td>\n",
       "    </tr>\n",
       "    <tr>\n",
       "      <th>std</th>\n",
       "      <td>3452.071428</td>\n",
       "      <td>1.034235e+06</td>\n",
       "      <td>0.041527</td>\n",
       "      <td>0.144856</td>\n",
       "      <td>3923.971494</td>\n",
       "      <td>694.180473</td>\n",
       "      <td>0.196920</td>\n",
       "      <td>0.170196</td>\n",
       "      <td>4.475616</td>\n",
       "      <td>22.722432</td>\n",
       "      <td>...</td>\n",
       "      <td>1474.206546</td>\n",
       "      <td>583.418291</td>\n",
       "      <td>7371.257043</td>\n",
       "      <td>14.536819</td>\n",
       "      <td>2.974596</td>\n",
       "      <td>3.409292</td>\n",
       "      <td>14301.037628</td>\n",
       "      <td>5679.418585</td>\n",
       "      <td>37.725724</td>\n",
       "      <td>53.486408</td>\n",
       "    </tr>\n",
       "    <tr>\n",
       "      <th>min</th>\n",
       "      <td>5.000000</td>\n",
       "      <td>1.140000e+02</td>\n",
       "      <td>0.000000</td>\n",
       "      <td>0.000000</td>\n",
       "      <td>0.000000</td>\n",
       "      <td>0.000000</td>\n",
       "      <td>0.120000</td>\n",
       "      <td>0.033000</td>\n",
       "      <td>2.000000</td>\n",
       "      <td>0.000000</td>\n",
       "      <td>...</td>\n",
       "      <td>0.000000</td>\n",
       "      <td>0.000000</td>\n",
       "      <td>0.000000</td>\n",
       "      <td>0.000000</td>\n",
       "      <td>0.000000</td>\n",
       "      <td>0.000000</td>\n",
       "      <td>0.000000</td>\n",
       "      <td>0.000000</td>\n",
       "      <td>-2.000000</td>\n",
       "      <td>-2.000000</td>\n",
       "    </tr>\n",
       "    <tr>\n",
       "      <th>25%</th>\n",
       "      <td>3106.000000</td>\n",
       "      <td>7.593358e+05</td>\n",
       "      <td>0.010000</td>\n",
       "      <td>0.880000</td>\n",
       "      <td>0.000000</td>\n",
       "      <td>0.615000</td>\n",
       "      <td>0.670000</td>\n",
       "      <td>0.233000</td>\n",
       "      <td>15.000000</td>\n",
       "      <td>16.000000</td>\n",
       "      <td>...</td>\n",
       "      <td>2300.000000</td>\n",
       "      <td>1535.000000</td>\n",
       "      <td>4800.000000</td>\n",
       "      <td>77.000000</td>\n",
       "      <td>2.000000</td>\n",
       "      <td>3.000000</td>\n",
       "      <td>7800.000000</td>\n",
       "      <td>4737.000000</td>\n",
       "      <td>5.000000</td>\n",
       "      <td>10.000000</td>\n",
       "    </tr>\n",
       "    <tr>\n",
       "      <th>50%</th>\n",
       "      <td>6006.500000</td>\n",
       "      <td>1.634942e+06</td>\n",
       "      <td>0.010000</td>\n",
       "      <td>0.960000</td>\n",
       "      <td>500.000000</td>\n",
       "      <td>0.970000</td>\n",
       "      <td>0.860000</td>\n",
       "      <td>0.350000</td>\n",
       "      <td>17.000000</td>\n",
       "      <td>23.000000</td>\n",
       "      <td>...</td>\n",
       "      <td>3100.000000</td>\n",
       "      <td>1810.000000</td>\n",
       "      <td>7700.000000</td>\n",
       "      <td>79.000000</td>\n",
       "      <td>4.000000</td>\n",
       "      <td>5.000000</td>\n",
       "      <td>13800.000000</td>\n",
       "      <td>7050.000000</td>\n",
       "      <td>14.000000</td>\n",
       "      <td>36.000000</td>\n",
       "    </tr>\n",
       "    <tr>\n",
       "      <th>75%</th>\n",
       "      <td>8999.000000</td>\n",
       "      <td>2.597905e+06</td>\n",
       "      <td>0.020000</td>\n",
       "      <td>0.990000</td>\n",
       "      <td>2000.000000</td>\n",
       "      <td>1.600000</td>\n",
       "      <td>1.000000</td>\n",
       "      <td>0.480000</td>\n",
       "      <td>20.000000</td>\n",
       "      <td>32.000000</td>\n",
       "      <td>...</td>\n",
       "      <td>4300.000000</td>\n",
       "      <td>2100.000000</td>\n",
       "      <td>11700.000000</td>\n",
       "      <td>80.000000</td>\n",
       "      <td>7.000000</td>\n",
       "      <td>7.000000</td>\n",
       "      <td>20400.000000</td>\n",
       "      <td>10000.000000</td>\n",
       "      <td>24.000000</td>\n",
       "      <td>91.000000</td>\n",
       "    </tr>\n",
       "    <tr>\n",
       "      <th>max</th>\n",
       "      <td>11992.000000</td>\n",
       "      <td>4.004694e+06</td>\n",
       "      <td>1.000000</td>\n",
       "      <td>1.000000</td>\n",
       "      <td>68000.000000</td>\n",
       "      <td>47596.740000</td>\n",
       "      <td>1.000000</td>\n",
       "      <td>0.941000</td>\n",
       "      <td>42.000000</td>\n",
       "      <td>285.000000</td>\n",
       "      <td>...</td>\n",
       "      <td>10000.000000</td>\n",
       "      <td>6900.000000</td>\n",
       "      <td>87100.000000</td>\n",
       "      <td>87.000000</td>\n",
       "      <td>18.000000</td>\n",
       "      <td>20.000000</td>\n",
       "      <td>266400.000000</td>\n",
       "      <td>82800.000000</td>\n",
       "      <td>360.000000</td>\n",
       "      <td>323.000000</td>\n",
       "    </tr>\n",
       "  </tbody>\n",
       "</table>\n",
       "<p>8 rows × 83 columns</p>\n",
       "</div>"
      ],
      "text/plain": [
       "         Unnamed: 0        custid  low_volume_percent  middle_volume_percent  \\\n",
       "count   4754.000000  4.754000e+03         4752.000000            4752.000000   \n",
       "mean    6008.414178  1.690993e+06            0.021806               0.901294   \n",
       "std     3452.071428  1.034235e+06            0.041527               0.144856   \n",
       "min        5.000000  1.140000e+02            0.000000               0.000000   \n",
       "25%     3106.000000  7.593358e+05            0.010000               0.880000   \n",
       "50%     6006.500000  1.634942e+06            0.010000               0.960000   \n",
       "75%     8999.000000  2.597905e+06            0.020000               0.990000   \n",
       "max    11992.000000  4.004694e+06            1.000000               1.000000   \n",
       "\n",
       "       take_amount_in_later_12_month_highest  \\\n",
       "count                            4754.000000   \n",
       "mean                             1940.197728   \n",
       "std                              3923.971494   \n",
       "min                                 0.000000   \n",
       "25%                                 0.000000   \n",
       "50%                               500.000000   \n",
       "75%                              2000.000000   \n",
       "max                             68000.000000   \n",
       "\n",
       "       trans_amount_increase_rate_lately  trans_activity_month  \\\n",
       "count                        4751.000000           4752.000000   \n",
       "mean                           14.160674              0.804411   \n",
       "std                           694.180473              0.196920   \n",
       "min                             0.000000              0.120000   \n",
       "25%                             0.615000              0.670000   \n",
       "50%                             0.970000              0.860000   \n",
       "75%                             1.600000              1.000000   \n",
       "max                         47596.740000              1.000000   \n",
       "\n",
       "       trans_activity_day   transd_mcc  trans_days_interval_filter  ...  \\\n",
       "count         4752.000000  4752.000000                 4746.000000  ...   \n",
       "mean             0.365425    17.502946                   29.029920  ...   \n",
       "std              0.170196     4.475616                   22.722432  ...   \n",
       "min              0.033000     2.000000                    0.000000  ...   \n",
       "25%              0.233000    15.000000                   16.000000  ...   \n",
       "50%              0.350000    17.000000                   23.000000  ...   \n",
       "75%              0.480000    20.000000                   32.000000  ...   \n",
       "max              0.941000    42.000000                  285.000000  ...   \n",
       "\n",
       "       loans_max_limit  loans_avg_limit  consfin_credit_limit  \\\n",
       "count      4457.000000      4457.000000           4457.000000   \n",
       "mean       3390.038142      1820.357864           9187.009199   \n",
       "std        1474.206546       583.418291           7371.257043   \n",
       "min           0.000000         0.000000              0.000000   \n",
       "25%        2300.000000      1535.000000           4800.000000   \n",
       "50%        3100.000000      1810.000000           7700.000000   \n",
       "75%        4300.000000      2100.000000          11700.000000   \n",
       "max       10000.000000      6900.000000          87100.000000   \n",
       "\n",
       "       consfin_credibility  consfin_org_count_current  consfin_product_count  \\\n",
       "count          4457.000000                4457.000000            4457.000000   \n",
       "mean             76.042630                   4.732331               5.227507   \n",
       "std              14.536819                   2.974596               3.409292   \n",
       "min               0.000000                   0.000000               0.000000   \n",
       "25%              77.000000                   2.000000               3.000000   \n",
       "50%              79.000000                   4.000000               5.000000   \n",
       "75%              80.000000                   7.000000               7.000000   \n",
       "max              87.000000                  18.000000              20.000000   \n",
       "\n",
       "       consfin_max_limit  consfin_avg_limit  latest_query_day  \\\n",
       "count        4457.000000        4457.000000       4450.000000   \n",
       "mean        16153.690823        8007.696881         24.112809   \n",
       "std         14301.037628        5679.418585         37.725724   \n",
       "min             0.000000           0.000000         -2.000000   \n",
       "25%          7800.000000        4737.000000          5.000000   \n",
       "50%         13800.000000        7050.000000         14.000000   \n",
       "75%         20400.000000       10000.000000         24.000000   \n",
       "max        266400.000000       82800.000000        360.000000   \n",
       "\n",
       "       loans_latest_day  \n",
       "count       4457.000000  \n",
       "mean          55.181512  \n",
       "std           53.486408  \n",
       "min           -2.000000  \n",
       "25%           10.000000  \n",
       "50%           36.000000  \n",
       "75%           91.000000  \n",
       "max          323.000000  \n",
       "\n",
       "[8 rows x 83 columns]"
      ]
     },
     "execution_count": 3,
     "metadata": {},
     "output_type": "execute_result"
    }
   ],
   "source": [
    "pd.options.display.max_rows = 10   #最大显示10行\n",
    "data = pd.read_csv(r\"D:\\datasets\\data.csv\",encoding = \"gbk\")  #读取数据  \n",
    "data_1 = data.copy()\n",
    "data_1.describe()"
   ]
  },
  {
   "cell_type": "code",
   "execution_count": 4,
   "metadata": {},
   "outputs": [
    {
     "name": "stdout",
     "output_type": "stream",
     "text": [
      "(4423, 82)\n"
     ]
    }
   ],
   "source": [
    "#将空值替换为np.nan\n",
    "for columns in data_1.columns:\n",
    "    data_1.loc[data_1[columns] == \"NA\",columns] = np.nan \n",
    "    \n",
    "#删除无效特征\n",
    "Irrelevant_features = ['Unnamed: 0', 'custid', 'trade_no', 'bank_card_no', 'source', 'id_name', 'latest_query_time','loans_latest_time']\n",
    "data_2 = data_1.drop(Irrelevant_features,axis = 1)\n",
    "\n",
    "\n",
    "#根据reg_preference_for_trad删除空值\n",
    "data_3 = data_2.dropna(subset = [\"reg_preference_for_trad\"])\n",
    "data_3 = data_2.dropna(subset = [\"status\"])\n",
    "\n",
    "#在指定阈值的前提下对特征进行删除 \n",
    "data_3 = data_3.dropna(axis = 1,thresh = 1000)\n",
    "data_3 = data_3.dropna(axis = 0,thresh = 75)\n",
    "\n",
    "#对空值采用均值进行填充\n",
    "data_3 = data_3.fillna(data_3.mean())\n",
    "print(data_3.shape)"
   ]
  },
  {
   "cell_type": "code",
   "execution_count": 5,
   "metadata": {},
   "outputs": [
    {
     "name": "stdout",
     "output_type": "stream",
     "text": [
      "(3096, 81)\n",
      "(3096,)\n",
      "(3096, 80)\n",
      "(3096, 80)\n"
     ]
    }
   ],
   "source": [
    "#去除标签\n",
    "data_non_labels = data_3.drop(\"status\",axis = 1)\n",
    "\n",
    "#采样标签\n",
    "data_labels = data_3[\"status\"]\n",
    "\n",
    "#切分数据集\n",
    "X_train_set,X_test_set,y_train_set,y_test_set = train_test_split(data_non_labels,data_labels,test_size = 0.3,random_state = 2018)\n",
    "print(X_train_set.shape)\n",
    "\n",
    "#取reg_preference_for_trad\n",
    "reg_preference_for_trad = X_train_set[\"reg_preference_for_trad\"].copy()\n",
    "print(reg_preference_for_trad.shape)\n",
    "\n",
    "#去除reg_preference_for_trad\n",
    "data_non_reg_preference = X_train_set.drop(\"reg_preference_for_trad\",axis = 1)\n",
    "print(data_non_reg_preference.shape)"
   ]
  },
  {
   "cell_type": "code",
   "execution_count": 39,
   "metadata": {},
   "outputs": [
    {
     "data": {
      "text/plain": [
       "(3096, 43)"
      ]
     },
     "execution_count": 39,
     "metadata": {},
     "output_type": "execute_result"
    }
   ],
   "source": [
    "from sklearn.feature_selection import VarianceThreshold\n",
    "threshold = 10\n",
    "vt = VarianceThreshold(threshold = threshold)\n",
    "data_non_reg_preference = vt.fit_transform(data_non_reg_preference)\n",
    "data_non_reg_preference.shape"
   ]
  },
  {
   "cell_type": "code",
   "execution_count": 40,
   "metadata": {},
   "outputs": [
    {
     "name": "stdout",
     "output_type": "stream",
     "text": [
      "(3096, 43)\n"
     ]
    }
   ],
   "source": [
    "#对数据进行归一化\n",
    "from sklearn.preprocessing import StandardScaler\n",
    "scaler = StandardScaler()\n",
    "data_non_reg_preference_scalered = scaler.fit_transform(data_non_reg_preference)\n",
    "print(data_non_reg_preference_scalered.shape)"
   ]
  },
  {
   "cell_type": "code",
   "execution_count": 41,
   "metadata": {},
   "outputs": [
    {
     "name": "stdout",
     "output_type": "stream",
     "text": [
      "(3096, 5)\n",
      "(3096, 48)\n"
     ]
    }
   ],
   "source": [
    "#尝试着将城市信息转变为onehot矩阵  \n",
    "from sklearn.preprocessing import LabelEncoder\n",
    "from sklearn.preprocessing import OneHotEncoder\n",
    "encoder = LabelEncoder().fit_transform(reg_preference_for_trad)\n",
    "reg_preference_encodered =  OneHotEncoder().fit_transform(encoder.reshape(-1,1)).toarray()\n",
    "print(reg_preference_encodered.shape)\n",
    "\n",
    "#将reg_preference_for_trad再添加进去\n",
    "data_prepared = np.hstack((data_non_reg_preference_scalered,reg_preference_encodered))\n",
    "print(data_prepared.shape)"
   ]
  },
  {
   "cell_type": "code",
   "execution_count": 22,
   "metadata": {},
   "outputs": [],
   "source": [
    "def plot_precision_recall_threshold(precisions,recalls,threshold):\n",
    "    plt.plot(threshold,precisions[:-1],\"b-\",label = \"Precision\")\n",
    "    plt.plot(threshold,recalls[:-1],\"g--\",label = \"recall\")\n",
    "    plt.xlabel(\"threshold\")\n",
    "    plt.ylabel(\"Precisions-Recall\")\n",
    "    plt.ylim([0,1])\n",
    "    plt.legend(loc = \"best\")\n",
    "    plt.show()\n",
    "    \n",
    "def plot_precision_recall_curve(precisions,recalls):\n",
    "    plt.plot(recalls,precisions,\"b-\",label = \"precision-recall\")\n",
    "    plt.xlabel(\"Recall\")\n",
    "    plt.ylabel(\"Precision\")\n",
    "    plt.legend(loc = \"best\")\n",
    "    plt.show()\n",
    "    \n",
    "def plot_fpr_tpr_curve(fpr,tpr,label = None):\n",
    "    plt.plot(fpr,tpr,linewidth = 2,label = label)\n",
    "    plt.axis([0,1,0,1])\n",
    "    plt.plot([0,1],[0,1],\"k--\")\n",
    "    plt.xlabel(\"False positive rate\")\n",
    "    plt.ylabel(\"True positive rate\")\n",
    "    plt.show()"
   ]
  },
  {
   "cell_type": "code",
   "execution_count": 33,
   "metadata": {},
   "outputs": [
    {
     "name": "stdout",
     "output_type": "stream",
     "text": [
      "(3096, 56)\n",
      "(3096,)\n"
     ]
    }
   ],
   "source": [
    "data_labels = y_train_set\n",
    "\n",
    "print(data_prepared.shape)\n",
    "print(data_labels.shape)"
   ]
  },
  {
   "cell_type": "code",
   "execution_count": 48,
   "metadata": {
    "scrolled": true
   },
   "outputs": [
    {
     "name": "stdout",
     "output_type": "stream",
     "text": [
      "0.2099483204134367\n",
      "4折交叉验证误差:  [-0.21705426 -0.21317829 -0.21447028 -0.21834625]\n",
      "4折交叉验证准确率:  [0.78294574 0.78682171 0.78552972 0.78165375]\n",
      "Precision score:  0.6838709677419355\n",
      "Recall score:  0.2774869109947644\n",
      "F1 score:  0.39478584729981375\n",
      "Acc:  0.7900516795865633\n",
      "(3093,)\n",
      "(3093,)\n",
      "(3092,)\n",
      "\n",
      "Drawing precisions-recalls graphics\n"
     ]
    },
    {
     "data": {
      "image/png": "[encoded data removed]",
      "text/plain": [
       "<Figure size 432x288 with 1 Axes>"
      ]
     },
     "metadata": {
      "needs_background": "light"
     },
     "output_type": "display_data"
    },
    {
     "name": "stdout",
     "output_type": "stream",
     "text": [
      "Drawing precisions-recalls-threshold graphics\n"
     ]
    },
    {
     "data": {
      "image/png": "[encoded data removed]",
      "text/plain": [
       "<Figure size 432x288 with 1 Axes>"
      ]
     },
     "metadata": {
      "needs_background": "light"
     },
     "output_type": "display_data"
    },
    {
     "name": "stdout",
     "output_type": "stream",
     "text": [
      "Drawing fpr-tpr graphics\n"
     ]
    },
    {
     "data": {
      "image/png": "[encoded data removed]",
      "text/plain": [
       "<Figure size 432x288 with 1 Axes>"
      ]
     },
     "metadata": {
      "needs_background": "light"
     },
     "output_type": "display_data"
    }
   ],
   "source": [
    "from sklearn.linear_model import LogisticRegression\n",
    "from sklearn.metrics import precision_score,recall_score\n",
    "from sklearn.metrics import f1_score\n",
    "from sklearn.metrics import accuracy_score\n",
    "from sklearn.model_selection import cross_val_score\n",
    "from sklearn.model_selection import cross_val_predict\n",
    "from sklearn.metrics import precision_recall_curve\n",
    "from sklearn.metrics import roc_curve\n",
    "from sklearn.metrics import mean_squared_error  #采用均方误差进行评价\n",
    "\n",
    "log_reg = LogisticRegression()\n",
    "log_reg.fit(data_prepared,data_labels)\n",
    "log_predictions = log_reg.predict(data_prepared)\n",
    "log_mse = mean_squared_error(data_labels,log_predictions)\n",
    "print(log_mse)\n",
    "\n",
    "#4折交叉验证\n",
    "scores = cross_val_score(log_reg,data_prepared,data_labels,scoring = \"neg_mean_squared_error\",cv = 4)\n",
    "print(\"4折交叉验证误差: \",scores)\n",
    "\n",
    "#4折交叉验证\n",
    "scores_1 = cross_val_score(log_reg,data_prepared,data_labels,scoring = \"accuracy\",cv = 4)\n",
    "print(\"4折交叉验证准确率: \",scores_1)\n",
    "\n",
    "#精确率\n",
    "log_predictions_all = log_reg.predict(data_prepared)\n",
    "\n",
    "print(\"Precision score: \",precision_score(data_labels,log_predictions_all))\n",
    "\n",
    "#召回率\n",
    "print(\"Recall score: \",recall_score(data_labels,log_predictions_all))\n",
    "\n",
    "#f1值\n",
    "print(\"F1 score: \",f1_score(data_labels,log_predictions_all))\n",
    "\n",
    "#Acc\n",
    "print(\"Acc: \",accuracy_score(data_labels,log_predictions_all))\n",
    "#画出P-R曲线\n",
    "log_scores = cross_val_predict(log_reg,data_prepared,data_labels,cv = 3,method = \"decision_function\")\n",
    "precisions_log,recalls_log, thresholds_log = precision_recall_curve(data_labels,log_scores)\n",
    "print(precisions_log.shape)\n",
    "print(recalls_log.shape)\n",
    "print(thresholds_log.shape)\n",
    "\n",
    "#画fpr，tpr曲线\n",
    "fpr_log,tpr_log,thresholds_log_roc = roc_curve(data_labels,log_scores)\n",
    "\n",
    "print()\n",
    "\n",
    "print(\"Drawing precisions-recalls graphics\")\n",
    "\n",
    "plot_precision_recall_curve(precisions_log,recalls_log)\n",
    "\n",
    "print(\"Drawing precisions-recalls-threshold graphics\")\n",
    "plot_precision_recall_threshold(precisions_log,recalls_log,thresholds_log)\n",
    "\n",
    "print(\"Drawing fpr-tpr graphics\")\n",
    "plot_fpr_tpr_curve(fpr_log,tpr_log)"
   ]
  },
  {
   "cell_type": "code",
   "execution_count": 60,
   "metadata": {},
   "outputs": [
    {
     "data": {
      "text/plain": [
       "GridSearchCV(cv=5, error_score='raise-deprecating',\n",
       "             estimator=LogisticRegression(C=1.0, class_weight=None, dual=False,\n",
       "                                          fit_intercept=True,\n",
       "                                          intercept_scaling=1, l1_ratio=None,\n",
       "                                          max_iter=100, multi_class='warn',\n",
       "                                          n_jobs=None, penalty='l2',\n",
       "                                          random_state=None, solver='warn',\n",
       "                                          tol=0.0001, verbose=0,\n",
       "                                          warm_start=False),\n",
       "             iid='warn', n_jobs=None,\n",
       "             param_grid={'C': [1, 2, 4, 6, 8], 'class_weight': ['balanced'],\n",
       "                         'fit_intercept': [True, False], 'n_jobs': [-1],\n",
       "                         'random_state': [2018],\n",
       "                         'solver': ['newton-cg', 'lbfgs', 'sag']},\n",
       "             pre_dispatch='2*n_jobs', refit=True, return_train_score=False,\n",
       "             scoring='precision', verbose=0)"
      ]
     },
     "execution_count": 60,
     "metadata": {},
     "output_type": "execute_result"
    }
   ],
   "source": [
    "from sklearn.model_selection import GridSearchCV\n",
    "param_grid = {\"C\":[1,2,4,6,8],\"fit_intercept\":[True,False],\"class_weight\":[\"balanced\"],\n",
    "             \"n_jobs\":[-1],\"solver\":[\"newton-cg\",\"lbfgs\",\"sag\"],\"random_state\":[2018]}\n",
    "grid_search= GridSearchCV(log_reg,param_grid,cv=5,scoring = \"precision\")\n",
    "grid_search.fit(data_prepared,data_labels)\n"
   ]
  },
  {
   "cell_type": "code",
   "execution_count": 64,
   "metadata": {},
   "outputs": [
    {
     "name": "stdout",
     "output_type": "stream",
     "text": [
      "{'C': 4, 'class_weight': 'balanced', 'fit_intercept': True, 'n_jobs': -1, 'random_state': 2018, 'solver': 'sag'}\n"
     ]
    }
   ],
   "source": [
    "grid_search.best_estimator_\n",
    "print(grid_search.best_params_)"
   ]
  },
  {
   "cell_type": "code",
   "execution_count": 62,
   "metadata": {},
   "outputs": [
    {
     "name": "stdout",
     "output_type": "stream",
     "text": [
      "4折交叉验证误差:  [-0.30361757 -0.31524548 -0.28165375 -0.27390181]\n",
      "4折交叉验证准确率:  [0.69638243 0.68475452 0.71834625 0.72609819]\n",
      "Precision score:  0.45840867992766726\n",
      "Recall score:  0.6636125654450262\n",
      "F1 score:  0.5422459893048129\n",
      "Acc:  0.7235142118863049\n"
     ]
    }
   ],
   "source": [
    "best_log = LogisticRegression(C=4, class_weight='balanced', dual=False, fit_intercept=True,intercept_scaling=1,\n",
    "                              l1_ratio=None, max_iter=100,multi_class='warn', n_jobs=-1, penalty='l2',\n",
    "                              random_state=2018, solver='sag', tol=0.0001, verbose=0,warm_start=False)\n",
    "best_log.fit(data_prepared,data_labels)\n",
    "prediction_best_log = best_log.predict(data_prepared)\n",
    "\n",
    "#4折交叉验证\n",
    "scores = cross_val_score(best_log,data_prepared,data_labels,scoring = \"neg_mean_squared_error\",cv = 4)\n",
    "print(\"4折交叉验证误差: \",scores)\n",
    "\n",
    "#4折交叉验证\n",
    "scores_1 = cross_val_score(best_log,data_prepared,data_labels,scoring = \"accuracy\",cv = 4)\n",
    "print(\"4折交叉验证准确率: \",scores_1)\n",
    "\n",
    "#精确率\n",
    "print(\"Precision score: \",precision_score(data_labels,prediction_best_log))\n",
    "\n",
    "#召回率\n",
    "print(\"Recall score: \",recall_score(data_labels,prediction_best_log))\n",
    "\n",
    "#f1值\n",
    "print(\"F1 score: \",f1_score(data_labels,prediction_best_log))\n",
    "\n",
    "#Acc\n",
    "print(\"Acc: \",accuracy_score(data_labels,prediction_best_log))"
   ]
  },
  {
   "cell_type": "code",
   "execution_count": 91,
   "metadata": {},
   "outputs": [
    {
     "data": {
      "text/plain": [
       "GridSearchCV(cv=5, error_score='raise-deprecating',\n",
       "             estimator=DecisionTreeClassifier(class_weight=None,\n",
       "                                              criterion='gini', max_depth=None,\n",
       "                                              max_features=None,\n",
       "                                              max_leaf_nodes=None,\n",
       "                                              min_impurity_decrease=0.0,\n",
       "                                              min_impurity_split=None,\n",
       "                                              min_samples_leaf=1,\n",
       "                                              min_samples_split=2,\n",
       "                                              min_weight_fraction_leaf=0.0,\n",
       "                                              presort=False, random_state=None,\n",
       "                                              splitter='best'),\n",
       "             iid='warn', n_jobs=None,\n",
       "             param_grid={'class_weight': ['balanced'],\n",
       "                         'criterion': ['gini', 'entropy'],\n",
       "                         'max_depth': [3, 5, 7, 9, 11, 13, 15, 20, 25],\n",
       "                         'max_features': [2, 4, 6, 8, 10],\n",
       "                         'max_leaf_nodes': [2, 4, 8, 10, 12, 14, 16, 18, 20, 22,\n",
       "                                            24, 26, 28],\n",
       "                         'min_samples_split': [2, 5, 8, 11, 14],\n",
       "                         'random_state': [2018]},\n",
       "             pre_dispatch='2*n_jobs', refit=True, return_train_score=False,\n",
       "             scoring='roc_auc', verbose=0)"
      ]
     },
     "execution_count": 91,
     "metadata": {},
     "output_type": "execute_result"
    }
   ],
   "source": [
    "#决策树过拟合  \n",
    "from sklearn.tree import DecisionTreeClassifier\n",
    "tree_reg = DecisionTreeClassifier()\n",
    "\n",
    "param_grid = {\"criterion\":[\"gini\",\"entropy\"],\"max_depth\":[3,5,7,9,11,13,15,20,25],\"min_samples_split\":[2,5,8,11,14],\n",
    "              \"random_state\":[2018],\"class_weight\":[\"balanced\"],\"max_leaf_nodes\":[2,4,8,10,12,14,16,18,20,22,24,26,28],\"max_features\":[2,4,6,8,10]}\n",
    "\n",
    "tree_grid_search= GridSearchCV(tree_reg,param_grid = param_grid,cv=5,scoring = \"roc_auc\")\n",
    "tree_grid_search.fit(data_prepared,data_labels)"
   ]
  },
  {
   "cell_type": "code",
   "execution_count": 92,
   "metadata": {},
   "outputs": [
    {
     "data": {
      "text/plain": [
       "{'class_weight': 'balanced',\n",
       " 'criterion': 'entropy',\n",
       " 'max_depth': 5,\n",
       " 'max_features': 8,\n",
       " 'max_leaf_nodes': 22,\n",
       " 'min_samples_split': 14,\n",
       " 'random_state': 2018}"
      ]
     },
     "execution_count": 92,
     "metadata": {},
     "output_type": "execute_result"
    }
   ],
   "source": [
    "tree_grid_search.best_params_"
   ]
  },
  {
   "cell_type": "code",
   "execution_count": 93,
   "metadata": {},
   "outputs": [
    {
     "data": {
      "text/plain": [
       "DecisionTreeClassifier(class_weight='balanced', criterion='entropy',\n",
       "                       max_depth=5, max_features=8, max_leaf_nodes=22,\n",
       "                       min_impurity_decrease=0.0, min_impurity_split=None,\n",
       "                       min_samples_leaf=1, min_samples_split=14,\n",
       "                       min_weight_fraction_leaf=0.0, presort=False,\n",
       "                       random_state=2018, splitter='best')"
      ]
     },
     "execution_count": 93,
     "metadata": {},
     "output_type": "execute_result"
    }
   ],
   "source": [
    "tree_grid_search.best_estimator_"
   ]
  },
  {
   "cell_type": "code",
   "execution_count": 94,
   "metadata": {},
   "outputs": [
    {
     "name": "stdout",
     "output_type": "stream",
     "text": [
      "Precision score:  0.421608448415922\n",
      "Recall score:  0.6793193717277487\n",
      "F1 score:  0.5203007518796993\n",
      "Accuracy: 0.6908914728682171\n"
     ]
    }
   ],
   "source": [
    "best_params_tree = DecisionTreeClassifier(class_weight='balanced', criterion='entropy',max_depth=5, max_features=8,\n",
    "                                          max_leaf_nodes=22,min_impurity_decrease=0.0, min_impurity_split=None,\n",
    "                                          min_samples_leaf=1, min_samples_split=14,min_weight_fraction_leaf=0.0,\n",
    "                                          presort=False,random_state=2018, splitter='best')\n",
    "best_params_tree.fit(data_prepared,data_labels)\n",
    "tree_predictions = best_params_tree.predict(data_prepared)\n",
    "\n",
    "#精确率\n",
    "print(\"Precision score: \",precision_score(data_labels,tree_predictions))\n",
    "\n",
    "#召回率\n",
    "print(\"Recall score: \",recall_score(data_labels,tree_predictions))\n",
    "\n",
    "#f1值\n",
    "print(\"F1 score: \",f1_score(data_labels,tree_predictions))\n",
    "\n",
    "#ACC\n",
    "print(\"Accuracy:\",accuracy_score(data_labels,tree_predictions))"
   ]
  },
  {
   "cell_type": "code",
   "execution_count": 99,
   "metadata": {},
   "outputs": [
    {
     "data": {
      "text/plain": [
       "GridSearchCV(cv=5, error_score='raise-deprecating',\n",
       "             estimator=RandomForestClassifier(bootstrap=True, class_weight=None,\n",
       "                                              criterion='gini', max_depth=None,\n",
       "                                              max_features='auto',\n",
       "                                              max_leaf_nodes=None,\n",
       "                                              min_impurity_decrease=0.0,\n",
       "                                              min_impurity_split=None,\n",
       "                                              min_samples_leaf=1,\n",
       "                                              min_samples_split=2,\n",
       "                                              min_weight_fraction_leaf=0.0,\n",
       "                                              n_estimators='warn', n_jobs=None,\n",
       "                                              oob_score=Fa...\n",
       "                                              warm_start=False),\n",
       "             iid='warn', n_jobs=None,\n",
       "             param_grid={'criterion': ['gini', 'entropy'],\n",
       "                         'max_depth': [3, 5, 7, 9, 11, 13, 15, 20, 25],\n",
       "                         'max_features': [2, 4, 6, 8, 10, 12],\n",
       "                         'max_leaf_nodes': [2, 4, 8, 10, 12, 14, 16, 18, 20, 22,\n",
       "                                            24, 26, 28],\n",
       "                         'n_estimators': [3, 10, 15, 20, 25, 30],\n",
       "                         'random_state': [2018]},\n",
       "             pre_dispatch='2*n_jobs', refit=True, return_train_score=False,\n",
       "             scoring='roc_auc', verbose=0)"
      ]
     },
     "execution_count": 99,
     "metadata": {},
     "output_type": "execute_result"
    }
   ],
   "source": [
    "#  随机森林  \n",
    "from sklearn.ensemble import RandomForestClassifier\n",
    "forest_reg = RandomForestClassifier()\n",
    "\n",
    "\n",
    "param_grid = {\"criterion\":[\"gini\",\"entropy\"],\"n_estimators\":[3,10,15,20,25,30],\"max_depth\":[3,5,7,9,11,13,15,20,25],\n",
    "              \"random_state\":[2018],\"max_leaf_nodes\":[2,4,8,10,12,14,16,18,20,22,24,26,28],\"max_features\":[2,4,6,8,10,12]}\n",
    "\n",
    "random_tree_grid_search= GridSearchCV(forest_reg,param_grid = param_grid,cv=5,scoring = \"roc_auc\")\n",
    "random_tree_grid_search.fit(data_prepared,data_labels)"
   ]
  },
  {
   "cell_type": "code",
   "execution_count": 101,
   "metadata": {},
   "outputs": [
    {
     "data": {
      "text/plain": [
       "RandomForestClassifier(bootstrap=True, class_weight=None, criterion='entropy',\n",
       "                       max_depth=11, max_features=12, max_leaf_nodes=28,\n",
       "                       min_impurity_decrease=0.0, min_impurity_split=None,\n",
       "                       min_samples_leaf=1, min_samples_split=2,\n",
       "                       min_weight_fraction_leaf=0.0, n_estimators=20,\n",
       "                       n_jobs=None, oob_score=False, random_state=2018,\n",
       "                       verbose=0, warm_start=False)"
      ]
     },
     "execution_count": 101,
     "metadata": {},
     "output_type": "execute_result"
    }
   ],
   "source": [
    "random_tree_grid_search.best_estimator_"
   ]
  },
  {
   "cell_type": "code",
   "execution_count": 100,
   "metadata": {},
   "outputs": [
    {
     "data": {
      "text/plain": [
       "{'criterion': 'entropy',\n",
       " 'max_depth': 11,\n",
       " 'max_features': 12,\n",
       " 'max_leaf_nodes': 28,\n",
       " 'n_estimators': 20,\n",
       " 'random_state': 2018}"
      ]
     },
     "execution_count": 100,
     "metadata": {},
     "output_type": "execute_result"
    }
   ],
   "source": [
    "random_tree_grid_search.best_params_"
   ]
  },
  {
   "cell_type": "code",
   "execution_count": 103,
   "metadata": {},
   "outputs": [
    {
     "name": "stdout",
     "output_type": "stream",
     "text": [
      "Precision score:  0.8678571428571429\n",
      "Recall score:  0.3180628272251309\n",
      "F1 score:  0.46551724137931033\n",
      "Accuracy: 0.8197674418604651\n"
     ]
    }
   ],
   "source": [
    "best_random_tree = RandomForestClassifier(bootstrap=True, class_weight=None, criterion='entropy',max_depth=11, max_features=12, \n",
    "                                          max_leaf_nodes=28,min_impurity_decrease=0.0, min_impurity_split=None,\n",
    "                                          min_samples_leaf=1, min_samples_split=2,min_weight_fraction_leaf=0.0, n_estimators=20,\n",
    "                                          n_jobs=None, oob_score=False, random_state=2018,verbose=0, warm_start=False)\n",
    "best_random_tree.fit(data_prepared,data_labels)\n",
    "\n",
    "best_random_tree_predictions = best_random_tree.predict(data_prepared)\n",
    "#精确率\n",
    "print(\"Precision score: \",precision_score(data_labels,best_random_tree_predictions))\n",
    "\n",
    "#召回率\n",
    "print(\"Recall score: \",recall_score(data_labels,best_random_tree_predictions))\n",
    "\n",
    "#f1值\n",
    "print(\"F1 score: \",f1_score(data_labels,best_random_tree_predictions))\n",
    "\n",
    "#ACC\n",
    "print(\"Accuracy:\",accuracy_score(data_labels,best_random_tree_predictions))"
   ]
  },
  {
   "cell_type": "code",
   "execution_count": 109,
   "metadata": {},
   "outputs": [
    {
     "data": {
      "text/plain": [
       "GridSearchCV(cv=5, error_score='raise-deprecating',\n",
       "             estimator=SVC(C=1.0, cache_size=200, class_weight=None, coef0=0.0,\n",
       "                           decision_function_shape='ovr', degree=3,\n",
       "                           gamma='auto_deprecated', kernel='rbf', max_iter=-1,\n",
       "                           probability=False, random_state=None, shrinking=True,\n",
       "                           tol=0.001, verbose=False),\n",
       "             iid='warn', n_jobs=None,\n",
       "             param_grid={'C': [0.5, 1, 2, 3], 'degree': [3, 4, 5, 6],\n",
       "                         'gamma': array([0.        , 0.11111111, 0.22222222, 0.33333333, 0.44444444,\n",
       "       0.55555556, 0.66666667, 0.77777778, 0.88888889, 1.        ]),\n",
       "                         'kernel': ['linear', 'poly', 'rbf', 'sigmoid']},\n",
       "             pre_dispatch='2*n_jobs', refit=True, return_train_score=False,\n",
       "             scoring='roc_auc', verbose=0)"
      ]
     },
     "execution_count": 109,
     "metadata": {},
     "output_type": "execute_result"
    }
   ],
   "source": [
    "#应用SVC\n",
    "from sklearn.svm import SVC\n",
    "svc_reg = SVC()\n",
    "\n",
    "param_grid = {\"C\":[0.5,1,2,3],\"kernel\":[\"linear\",\"poly\",\"rbf\",\"sigmoid\"],\"degree\":[3,4,5,6],\"gamma\":np.linspace(0.1,10,10)}\n",
    "\n",
    "linearsvc_grid_search= GridSearchCV(svc_reg,param_grid = param_grid,cv=5,scoring = \"roc_auc\")\n",
    "linearsvc_grid_search.fit(data_prepared,data_labels) "
   ]
  },
  {
   "cell_type": "code",
   "execution_count": 111,
   "metadata": {},
   "outputs": [
    {
     "data": {
      "text/plain": [
       "SVC(C=3, cache_size=200, class_weight=None, coef0=0.0,\n",
       "    decision_function_shape='ovr', degree=3, gamma=0.0, kernel='linear',\n",
       "    max_iter=-1, probability=False, random_state=None, shrinking=True,\n",
       "    tol=0.001, verbose=False)"
      ]
     },
     "execution_count": 111,
     "metadata": {},
     "output_type": "execute_result"
    }
   ],
   "source": [
    "linearsvc_grid_search.best_estimator_"
   ]
  },
  {
   "cell_type": "code",
   "execution_count": 113,
   "metadata": {},
   "outputs": [
    {
     "data": {
      "text/plain": [
       "{'C': 3, 'degree': 3, 'gamma': 0.0, 'kernel': 'linear'}"
      ]
     },
     "execution_count": 113,
     "metadata": {},
     "output_type": "execute_result"
    }
   ],
   "source": [
    "linearsvc_grid_search.best_params_"
   ]
  },
  {
   "cell_type": "code",
   "execution_count": 115,
   "metadata": {},
   "outputs": [
    {
     "name": "stdout",
     "output_type": "stream",
     "text": [
      "Precision score:  0.7741935483870968\n",
      "Recall score:  0.15706806282722513\n",
      "F1 score:  0.2611534276387377\n",
      "Accuracy: 0.7806847545219638\n"
     ]
    }
   ],
   "source": [
    "#精确率\n",
    "from sklearn.svm import SVC\n",
    "svc = SVC(C=3, cache_size=200, class_weight=None, coef0=0.0,decision_function_shape='ovr',\n",
    "          degree=3, gamma=\"auto\", kernel='linear',max_iter=-1, probability=False, random_state=None, \n",
    "          shrinking=True,tol=0.001, verbose=False)\n",
    "svc.fit(data_prepared,data_labels)\n",
    "\n",
    "svc_predictions_all = svc.predict(data_prepared)\n",
    "\n",
    "print(\"Precision score: \",precision_score(data_labels,svc_predictions_all))\n",
    "\n",
    "#召回率\n",
    "print(\"Recall score: \",recall_score(data_labels,svc_predictions_all))\n",
    "\n",
    "#f1值\n",
    "print(\"F1 score: \",f1_score(data_labels,svc_predictions_all))\n",
    "\n",
    "#ACC\n",
    "print(\"Accuracy:\",accuracy_score(data_labels,svc_predictions_all))"
   ]
  },
  {
   "cell_type": "code",
   "execution_count": 119,
   "metadata": {},
   "outputs": [
    {
     "data": {
      "text/plain": [
       "GridSearchCV(cv=5, error_score='raise-deprecating',\n",
       "             estimator=XGBClassifier(base_score=0.5, booster='gbtree',\n",
       "                                     colsample_bylevel=1, colsample_bynode=1,\n",
       "                                     colsample_bytree=1, gamma=0,\n",
       "                                     learning_rate=0.1, max_delta_step=0,\n",
       "                                     max_depth=3, min_child_weight=1,\n",
       "                                     missing=None, n_estimators=100, n_jobs=1,\n",
       "                                     nthread=-1, objective='binary:logistic',\n",
       "                                     random_state=0, reg_alpha=0, reg_lambda=1,\n",
       "                                     scale_pos_weight=1, seed=None, silent=None,\n",
       "                                     subsample=1, verbosity=1),\n",
       "             iid='warn', n_jobs=None,\n",
       "             param_grid={'max_depth': [4, 6, 8, 10, 12],\n",
       "                         'min_child_weight': [0.6, 1, 2],\n",
       "                         'n_estimatores': [5, 7, 9, 11, 13]},\n",
       "             pre_dispatch='2*n_jobs', refit=True, return_train_score=False,\n",
       "             scoring='recall', verbose=0)"
      ]
     },
     "execution_count": 119,
     "metadata": {},
     "output_type": "execute_result"
    }
   ],
   "source": [
    "from xgboost import XGBClassifier\n",
    "\n",
    "xgb = XGBClassifier(nthread = -1)\n",
    "param_grid = {\"n_estimatores\":[5,7,9,11,13],\"max_depth\":[4,6,8,10,12],\"min_child_weight\":[0.6,1,2]}\n",
    "\n",
    "xgd_grid_search= GridSearchCV(xgb,param_grid = param_grid,cv=5,scoring = \"recall\")\n",
    "xgd_grid_search.fit(data_prepared,data_labels) "
   ]
  },
  {
   "cell_type": "code",
   "execution_count": 120,
   "metadata": {},
   "outputs": [
    {
     "data": {
      "text/plain": [
       "{'max_depth': 4, 'min_child_weight': 2, 'n_estimatores': 5}"
      ]
     },
     "execution_count": 120,
     "metadata": {},
     "output_type": "execute_result"
    }
   ],
   "source": [
    "xgd_grid_search.best_params_"
   ]
  },
  {
   "cell_type": "code",
   "execution_count": 121,
   "metadata": {},
   "outputs": [
    {
     "data": {
      "text/plain": [
       "XGBClassifier(base_score=0.5, booster='gbtree', colsample_bylevel=1,\n",
       "              colsample_bynode=1, colsample_bytree=1, gamma=0,\n",
       "              learning_rate=0.1, max_delta_step=0, max_depth=4,\n",
       "              min_child_weight=2, missing=None, n_estimatores=5,\n",
       "              n_estimators=100, n_jobs=1, nthread=-1,\n",
       "              objective='binary:logistic', random_state=0, reg_alpha=0,\n",
       "              reg_lambda=1, scale_pos_weight=1, seed=None, silent=None,\n",
       "              subsample=1, verbosity=1)"
      ]
     },
     "execution_count": 121,
     "metadata": {},
     "output_type": "execute_result"
    }
   ],
   "source": [
    "xgd_grid_search.best_estimator_"
   ]
  },
  {
   "cell_type": "code",
   "execution_count": 123,
   "metadata": {},
   "outputs": [
    {
     "ename": "XGBoostError",
     "evalue": "need to call fit or load_model beforehand",
     "output_type": "error",
     "traceback": [
      "\u001b[1;31m---------------------------------------------------------------------------\u001b[0m",
      "\u001b[1;31mXGBoostError\u001b[0m                              Traceback (most recent call last)",
      "\u001b[1;32m<ipython-input-123-3228de6f27b9>\u001b[0m in \u001b[0;36m<module>\u001b[1;34m\u001b[0m\n\u001b[0;32m      8\u001b[0m \u001b[1;33m\u001b[0m\u001b[0m\n\u001b[0;32m      9\u001b[0m \u001b[1;31m#精确率\u001b[0m\u001b[1;33m\u001b[0m\u001b[1;33m\u001b[0m\u001b[1;33m\u001b[0m\u001b[0m\n\u001b[1;32m---> 10\u001b[1;33m \u001b[0mxgb_predictions_all\u001b[0m \u001b[1;33m=\u001b[0m \u001b[0mxgb\u001b[0m\u001b[1;33m.\u001b[0m\u001b[0mpredict\u001b[0m\u001b[1;33m(\u001b[0m\u001b[0mdata_prepared\u001b[0m\u001b[1;33m)\u001b[0m\u001b[1;33m\u001b[0m\u001b[1;33m\u001b[0m\u001b[0m\n\u001b[0m\u001b[0;32m     11\u001b[0m \u001b[1;33m\u001b[0m\u001b[0m\n\u001b[0;32m     12\u001b[0m \u001b[0mprint\u001b[0m\u001b[1;33m(\u001b[0m\u001b[1;34m\"Precision score: \"\u001b[0m\u001b[1;33m,\u001b[0m\u001b[0mprecision_score\u001b[0m\u001b[1;33m(\u001b[0m\u001b[0mdata_labels\u001b[0m\u001b[1;33m,\u001b[0m\u001b[0mxgb_predictions\u001b[0m\u001b[1;33m)\u001b[0m\u001b[1;33m)\u001b[0m\u001b[1;33m\u001b[0m\u001b[1;33m\u001b[0m\u001b[0m\n",
      "\u001b[1;32mD:\\Users\\hu\\Anaconda3\\envs\\PY36\\lib\\site-packages\\xgboost\\sklearn.py\u001b[0m in \u001b[0;36mpredict\u001b[1;34m(self, data, output_margin, ntree_limit, validate_features)\u001b[0m\n\u001b[0;32m    786\u001b[0m         \u001b[1;32mif\u001b[0m \u001b[0mntree_limit\u001b[0m \u001b[1;32mis\u001b[0m \u001b[1;32mNone\u001b[0m\u001b[1;33m:\u001b[0m\u001b[1;33m\u001b[0m\u001b[1;33m\u001b[0m\u001b[0m\n\u001b[0;32m    787\u001b[0m             \u001b[0mntree_limit\u001b[0m \u001b[1;33m=\u001b[0m \u001b[0mgetattr\u001b[0m\u001b[1;33m(\u001b[0m\u001b[0mself\u001b[0m\u001b[1;33m,\u001b[0m \u001b[1;34m\"best_ntree_limit\"\u001b[0m\u001b[1;33m,\u001b[0m \u001b[1;36m0\u001b[0m\u001b[1;33m)\u001b[0m\u001b[1;33m\u001b[0m\u001b[1;33m\u001b[0m\u001b[0m\n\u001b[1;32m--> 788\u001b[1;33m         class_probs = self.get_booster().predict(test_dmatrix,\n\u001b[0m\u001b[0;32m    789\u001b[0m                                                  \u001b[0moutput_margin\u001b[0m\u001b[1;33m=\u001b[0m\u001b[0moutput_margin\u001b[0m\u001b[1;33m,\u001b[0m\u001b[1;33m\u001b[0m\u001b[1;33m\u001b[0m\u001b[0m\n\u001b[0;32m    790\u001b[0m                                                  \u001b[0mntree_limit\u001b[0m\u001b[1;33m=\u001b[0m\u001b[0mntree_limit\u001b[0m\u001b[1;33m,\u001b[0m\u001b[1;33m\u001b[0m\u001b[1;33m\u001b[0m\u001b[0m\n",
      "\u001b[1;32mD:\\Users\\hu\\Anaconda3\\envs\\PY36\\lib\\site-packages\\xgboost\\sklearn.py\u001b[0m in \u001b[0;36mget_booster\u001b[1;34m(self)\u001b[0m\n\u001b[0;32m    191\u001b[0m         \"\"\"\n\u001b[0;32m    192\u001b[0m         \u001b[1;32mif\u001b[0m \u001b[0mself\u001b[0m\u001b[1;33m.\u001b[0m\u001b[0m_Booster\u001b[0m \u001b[1;32mis\u001b[0m \u001b[1;32mNone\u001b[0m\u001b[1;33m:\u001b[0m\u001b[1;33m\u001b[0m\u001b[1;33m\u001b[0m\u001b[0m\n\u001b[1;32m--> 193\u001b[1;33m             \u001b[1;32mraise\u001b[0m \u001b[0mXGBoostError\u001b[0m\u001b[1;33m(\u001b[0m\u001b[1;34m'need to call fit or load_model beforehand'\u001b[0m\u001b[1;33m)\u001b[0m\u001b[1;33m\u001b[0m\u001b[1;33m\u001b[0m\u001b[0m\n\u001b[0m\u001b[0;32m    194\u001b[0m         \u001b[1;32mreturn\u001b[0m \u001b[0mself\u001b[0m\u001b[1;33m.\u001b[0m\u001b[0m_Booster\u001b[0m\u001b[1;33m\u001b[0m\u001b[1;33m\u001b[0m\u001b[0m\n\u001b[0;32m    195\u001b[0m \u001b[1;33m\u001b[0m\u001b[0m\n",
      "\u001b[1;31mXGBoostError\u001b[0m: need to call fit or load_model beforehand"
     ]
    }
   ],
   "source": [
    "best_xgb = XGBClassifier(base_score=0.5, booster='gbtree', colsample_bylevel=1,colsample_bynode=1, \n",
    "                         colsample_bytree=1, gamma=0,learning_rate=0.1, max_delta_step=0, max_depth=4,\n",
    "                         min_child_weight=2, missing=None, n_estimatores=5,n_estimators=100, n_jobs=1,\n",
    "                         nthread=-1,objective='binary:logistic', random_state=0, reg_alpha=0,reg_lambda=1, \n",
    "                         scale_pos_weight=1, seed=None, silent=None,subsample=1, verbosity=1)\n",
    "\n",
    "best_xgb.fit(data_prepared,data_labels)\n",
    "\n",
    "#精确率\n",
    "xgb_predictions_all = xgb.predict(data_prepared)\n",
    "\n",
    "print(\"Precision score: \",precision_score(data_labels,xgb_predictions))\n",
    "\n",
    "#召回率\n",
    "print(\"Recall score: \",recall_score(data_labels,xgb_predictions))\n",
    "\n",
    "#f1值\n",
    "print(\"F1 score: \",f1_score(data_labels,xgb_predictions))"
   ]
  }
 ],
 "metadata": {
  "kernelspec": {
   "display_name": "Python 3",
   "language": "python",
   "name": "python3"
  },
  "language_info": {
   "codemirror_mode": {
    "name": "ipython",
    "version": 3
   },
   "file_extension": ".py",
   "mimetype": "text/x-python",
   "name": "python",
   "nbconvert_exporter": "python",
   "pygments_lexer": "ipython3",
   "version": "3.6.8"
  }
 },
 "nbformat": 4,
 "nbformat_minor": 2
}
